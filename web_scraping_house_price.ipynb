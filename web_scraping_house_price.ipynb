{
  "nbformat": 4,
  "nbformat_minor": 0,
  "metadata": {
    "colab": {
      "name": "web scraping_house price.ipynb",
      "provenance": [],
      "collapsed_sections": [],
      "authorship_tag": "ABX9TyOHOetoBDYvq6RVEFrkcBlq",
      "include_colab_link": true
    },
    "kernelspec": {
      "name": "python3",
      "display_name": "Python 3"
    }
  },
  "cells": [
    {
      "cell_type": "markdown",
      "metadata": {
        "id": "view-in-github",
        "colab_type": "text"
      },
      "source": [
        "<a href=\"https://colab.research.google.com/github/sojungkang/colab_example/blob/master/web_scraping_house_price.ipynb\" target=\"_parent\"><img src=\"https://colab.research.google.com/assets/colab-badge.svg\" alt=\"Open In Colab\"/></a>"
      ]
    },
    {
      "cell_type": "code",
      "metadata": {
        "id": "-7YLnxEicb93",
        "colab_type": "code",
        "colab": {}
      },
      "source": [
        "from bs4 import BeautifulSoup\n",
        "from requests import get\n",
        "import pandas as pd\n",
        "import re\n",
        "import matplotlib.pyplot as plt\n",
        "import seaborn as sns\n",
        "from time import sleep\n",
        "from random import randint\n",
        "import matplotlib.pyplot as plt\n",
        "import seaborn as sns\n",
        "sns.set()"
      ],
      "execution_count": 0,
      "outputs": []
    },
    {
      "cell_type": "code",
      "metadata": {
        "id": "tQiilBXaclZs",
        "colab_type": "code",
        "colab": {}
      },
      "source": [
        "headers = ({'User-Agent':\n",
        "            'Mozilla/5.0 (Windows NT 6.1) AppleWebKit/537.36 (KHTML, like Gecko) Chrome/41.0.2228.0 Safari/537.36'})"
      ],
      "execution_count": 0,
      "outputs": []
    },
    {
      "cell_type": "code",
      "metadata": {
        "id": "6bK-WZopc3Pe",
        "colab_type": "code",
        "outputId": "f233b8eb-311d-4564-c2fd-252d1b48652b",
        "colab": {
          "base_uri": "https://localhost:8080/",
          "height": 275
        }
      },
      "source": [
        "print(response.text[:1000])"
      ],
      "execution_count": 19,
      "outputs": [
        {
          "output_type": "stream",
          "text": [
            "<!DOCTYPE html>\n",
            "<html lang=\"en-GB\" class=\"is-not-modern property-to-rent channel-based-property-types channel--rent \">\n",
            "<head>\n",
            "    <meta charset=\"utf-8\">\n",
            "    <title>Properties To Rent in London | Rightmove</title>\n",
            "    <meta http-equiv=\"X-UA-Compatible\" content=\"IE=Edge\"/>\n",
            "    <meta name=\"viewport\" content=\"width=device-width, shrink-to-fit=no, initial-scale=1.0, user-scalable=no\"/>\n",
            "    <meta name=\"format-detection\" content=\"telephone=no\"/>\n",
            "    <meta name=\"HandheldFriendly\" content=\"True\"/>\n",
            "    <meta name=\"description\" content=\"Flats &amp; Houses To Rent in London - Find properties with Rightmove - the UK&#39;s largest selection of properties.\"/>\n",
            "        <meta name=\"referrer\" content=\"origin-when-cross-origin\">\n",
            "    \n",
            "    <link rel=\"preconnect\" href=\"https://media.rightmove.co.uk:443\" crossorigin/>\n",
            "    <link rel=\"preconnect\" href=\"//product.rightmove.co.uk\" crossorigin/><link rel=\"shortcut icon\" href=\"/pvw/images/favicons/rebranded/favicon.ico\"><link rel=\"apple-touch-icon\" sizes=\"72x72\" hr\n"
          ],
          "name": "stdout"
        }
      ]
    },
    {
      "cell_type": "code",
      "metadata": {
        "id": "RFygzlnidmF0",
        "colab_type": "code",
        "colab": {}
      },
      "source": [
        "page_num = 0\n",
        "\n",
        "titles = []\n",
        "addresses = []\n",
        "rooms = []\n",
        "prices = []\n",
        "descriptions = []\n",
        "\n",
        "def strip_price(text):\n",
        "  numbers_only = re.sub(r'[^0-9]+', '', text)\n",
        "  # print('Before', text, 'After', numbers_only, len(numbers_only))\n",
        "  return int(numbers_only) if len(numbers_only) > 0 else 0\n",
        "\n",
        "def scrape_element(item, el, name):\n",
        "  return item.find(el, class_=name).text.strip()\n",
        "\n",
        "\n",
        "for page in range(0,50):\n",
        "  page_num += 1   \n",
        "  url = 'https://www.rightmove.co.uk/property-to-rent/find.html?searchType=RENT&locationIdentifier=REGION%5E87490&insId=1&radius=0.0&minPrice=&maxPrice=&minBedrooms=&maxBedrooms=&displayPropertyType=&maxDaysSinceAdded=&sortByPriceDescending=&_includeLetAgreed=on&primaryDisplayPropertyType=&secondaryDisplayPropertyType=&oldDisplayPropertyType=&oldPrimaryDisplayPropertyType=&letType=&letFurnishType=&houseFlatShare='\n",
        "  response = get(url, headers=headers)\n",
        "  page_html = BeautifulSoup(response.text, 'html.parser')\n",
        "  house_containers = page_html.find_all('div', class_=\"l-searchResult\")\n",
        "\n",
        "  if house_containers != []:\n",
        "      for container in house_containers:\n",
        "        \n",
        "        #title\n",
        "        title = scrape_element(container, 'h2','propertyCard-title')\n",
        "        titles.append(title)\n",
        "\n",
        "        #address\n",
        "        address = scrape_element(container, 'address', 'propertyCard-address')\n",
        "        addresses.append(address)\n",
        "\n",
        "        #room\n",
        "        room = strip_price(scrape_element(container, 'h2','propertyCard-title'))\n",
        "        rooms.append(room)\n",
        "\n",
        "        #price\n",
        "        price_per_month = strip_price(scrape_element(container, 'div','propertyCard-rentalPrice-primary'))\n",
        "        prices.append(price_per_month)\n",
        "\n",
        "        #description\n",
        "        descr = scrape_element(container, 'div','propertyCard-description')\n",
        "        descriptions.append(descr)\n",
        "\n",
        "  else:\n",
        "    break\n",
        "  \n",
        "  sleep(randint(1,2))\n",
        "\n",
        "\n",
        "# print('I scraped {} pages containing {} properties.'.format(page_num, len(titles)))\n",
        "\n",
        "\n",
        "\n",
        "cols = ['Title', 'Address', 'Room', 'Price', 'Description']\n",
        "\n",
        "london = pd.DataFrame({'Title': titles,\n",
        "                        'Address': addresses,\n",
        "                        'Room': rooms,\n",
        "                        'Price': prices,\n",
        "                        'Description': descriptions\n",
        "                        })[cols]\n",
        "\n",
        "london.to_excel('london_raw.xls')\n",
        "\n",
        "# london = pd.read_excel('london_raw.xls')\n"
      ],
      "execution_count": 0,
      "outputs": []
    },
    {
      "cell_type": "code",
      "metadata": {
        "id": "c0C3p7y_YZay",
        "colab_type": "code",
        "colab": {
          "base_uri": "https://localhost:8080/",
          "height": 615
        },
        "outputId": "caaf37fc-16f3-4a7a-c0ea-924b5c22b202"
      },
      "source": [
        "plt.figure(figsize=(15,10))\n",
        "ax = sns.boxplot(x='Room', y='Price', data = london)\n",
        "ax.tick_params(labelsize=13)\n",
        "plt.show()"
      ],
      "execution_count": 43,
      "outputs": [
        {
          "output_type": "display_data",
          "data": {
            "image/png": "[encoded data removed]",
            "text/plain": [
              "<Figure size 1080x720 with 1 Axes>"
            ]
          },
          "metadata": {
            "tags": []
          }
        }
      ]
    }
  ]
}